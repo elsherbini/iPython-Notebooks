{
 "cells": [
  {
   "cell_type": "markdown",
   "metadata": {},
   "source": [
    "**I asked a question on [math.stackexchange.com](math.stackexchange.com), and recieved a great answer. This is my attempt to implement the insighful solution** ([link to question](http://math.stackexchange.com/questions/1350456/probability-a-blackjack-dealer-will-bust-if-you-know-their-score-and-know-the-ex))\n",
    "\n",
    "**After some thought and reading comments on math stackexchange, i decided to implement the recursive solution rather than the linear algebra one for now**"
   ]
  },
  {
   "cell_type": "code",
   "execution_count": 6,
   "metadata": {
    "collapsed": true
   },
   "outputs": [],
   "source": [
    "from __future__ import division\n",
    "import numpy as np\n",
    "from copy import deepcopy"
   ]
  },
  {
   "cell_type": "code",
   "execution_count": 21,
   "metadata": {
    "collapsed": false
   },
   "outputs": [],
   "source": [
    "class Shoe:\n",
    "    \n",
    "    def __init__(self, state):\n",
    "        '''\n",
    "        deck state is a vector of the number of cards\n",
    "        of a specific value in order from ace to 10\n",
    "        '''\n",
    "        self.state = state\n",
    "\n",
    "    def p_busts(self, hand, p=0):\n",
    "        for card in range(1,11):\n",
    "            if hand.score <= 16:\n",
    "                score_after_hitting = hand.hit(card)[0]\n",
    "                if score_after_hitting >= 22:\n",
    "                    p += sum(self.state.values()[card - 1:]) / sum(self.state.values())\n",
    "                    break\n",
    "                elif score_after_hitting <= 16:\n",
    "                    new_state = deepcopy(self.state)\n",
    "                    new_state[card] -= 1\n",
    "                    p += Shoe(new_state).p_busts(Hand(hand.hit(card)), p)\n",
    "        return p"
   ]
  },
  {
   "cell_type": "code",
   "execution_count": 8,
   "metadata": {
    "collapsed": false
   },
   "outputs": [],
   "source": [
    "class Hand:\n",
    "    \n",
    "    def __init__(self, score, soft=False):\n",
    "        self.score = score\n",
    "        self.soft = False\n",
    "        \n",
    "    def hit(self, value):\n",
    "        score = self.score\n",
    "        soft = self.soft\n",
    "        if soft:\n",
    "            if score + value > 21:\n",
    "                score = score - 10 + value\n",
    "                soft = False\n",
    "            else:\n",
    "                score += value\n",
    "        elif value == 1 and score + 11 <= 21:\n",
    "            score += 11\n",
    "            soft = True\n",
    "        else:\n",
    "            score += value\n",
    "        return (score, soft)"
   ]
  },
  {
   "cell_type": "code",
   "execution_count": 22,
   "metadata": {
    "collapsed": false
   },
   "outputs": [
    {
     "name": "stdout",
     "output_type": "stream",
     "text": [
      "0.308681672026\n",
      "0.385852090032\n",
      "0.459807073955\n",
      "0.536977491961\n",
      "0.614147909968\n",
      "1.76807950892\n"
     ]
    }
   ],
   "source": [
    "default_state = {x:4*6 for x in range(1,10)}\n",
    "default_state[10] = 4*4*6\n",
    "shoe = Shoe(default_state)\n",
    "p = 0\n",
    "for x in range(1,11):\n",
    "    new_state = deepcopy(shoe.state)\n",
    "    new_state[x] -= 1\n",
    "    the_shoe = Shoe(new_state)\n",
    "    if x == 0:\n",
    "        p += the_shoe.p_busts(Hand(17, soft=True))*the_shoe.state[x]/sum(the_shoe.state)\n",
    "    else:\n",
    "        p += the_shoe.p_busts(Hand(6+x))*the_shoe.state[x]/sum(the_shoe.state)\n",
    "print p\n"
   ]
  },
  {
   "cell_type": "code",
   "execution_count": 20,
   "metadata": {
    "collapsed": false
   },
   "outputs": [
    {
     "data": {
      "text/plain": [
       "[24, 24, 24, 24, 96]"
      ]
     },
     "execution_count": 20,
     "metadata": {},
     "output_type": "execute_result"
    }
   ],
   "source": [
    "default_state.values()[5:]"
   ]
  },
  {
   "cell_type": "markdown",
   "metadata": {
    "collapsed": true
   },
   "source": [
    "----------\n",
    "<blockquote>\n",
    "I think this question is related to a broader question that I ask myself all the time in research: what does it mean to have a \"nice solution\" to a problem? When I was young, I was taught that a \"nice solution\" is a formula for the thing you want to calculate, but that's not always true! Having a forumla for something often tells you very little about it, and other descriptions are often much more useful from a practical point of view.\n",
    "\n",
    "I'm not sure whether the description of the bust probability given above is much use, but for this problem, I suspect that a linear algebraic description of this kind will be more useful than a formula.\n",
    "</blockquote>"
   ]
  }
 ],
 "metadata": {
  "kernelspec": {
   "display_name": "Python 2",
   "language": "python",
   "name": "python2"
  },
  "language_info": {
   "codemirror_mode": {
    "name": "ipython",
    "version": 2
   },
   "file_extension": ".py",
   "mimetype": "text/x-python",
   "name": "python",
   "nbconvert_exporter": "python",
   "pygments_lexer": "ipython2",
   "version": "2.7.9"
  }
 },
 "nbformat": 4,
 "nbformat_minor": 0
}
