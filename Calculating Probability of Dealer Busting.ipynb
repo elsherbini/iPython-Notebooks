{
 "cells": [
  {
   "cell_type": "markdown",
   "metadata": {},
   "source": [
    "**I asked a question on [math.stackexchange.com](math.stackexchange.com), and recieved a great answer. This is my attempt to implement the insighful solution** ([link to question](http://math.stackexchange.com/questions/1350456/probability-a-blackjack-dealer-will-bust-if-you-know-their-score-and-know-the-ex))\n",
    "\n",
    "**After some thought and reading comments on math stackexchange, i decided to implement the recursive solution rather than the linear algebra one for now**"
   ]
  },
  {
   "cell_type": "code",
   "execution_count": 13,
   "metadata": {
    "collapsed": false,
    "scrolled": true
   },
   "outputs": [
    {
     "name": "stdout",
     "output_type": "stream",
     "text": [
      "Probability of bust showing 1: 0.193901\n",
      "Probability of bust showing 2: 0.488359\n",
      "Probability of bust showing 3: 0.469718\n",
      "Probability of bust showing 4: 0.464140\n",
      "Probability of bust showing 5: 0.465058\n",
      "Probability of bust showing 6: 0.473674\n",
      "Probability of bust showing 7: 0.300726\n",
      "Probability of bust showing 8: 0.274188\n",
      "Probability of bust showing 9: 0.252677\n",
      "Probability of bust showing 10: 0.231862\n"
     ]
    }
   ],
   "source": [
    "from __future__ import division\n",
    "\n",
    "def hit_hand(score, soft, value):\n",
    "    '''given a hand and a card, returns the new hand\n",
    "    \n",
    "    arguments: \n",
    "    score: the current score of the hand (int)\n",
    "    soft: whether or not the score is soft (boolean)\n",
    "    value: the value of the card to add to the hand\n",
    "    \n",
    "    returns (score, soft): the score and whether or not the score is soft of the resulting hand\n",
    "    '''\n",
    "    if soft and score + value > 21:\n",
    "        score = score - 10 + value\n",
    "        soft = False\n",
    "    elif value == 1 and score + 11 <= 16:\n",
    "        score += 11\n",
    "        soft = True\n",
    "    else:\n",
    "        score += value\n",
    "    return (score, soft)\n",
    "\n",
    "\n",
    "def p_bust(hand, shoe, p=0.0):\n",
    "    '''given a hand and a shoe, returns the probability of busting\n",
    "    assumes dealer stands on soft 17\n",
    "    \n",
    "    arguments:\n",
    "    hand: tuple containing score and whether score is soft (tuple)\n",
    "    shoe: the number of cards of each value left to draw (list)\n",
    "    \n",
    "    keyword_arguments:\n",
    "    p: aggregator for probability of busting (default=0.0)\n",
    "    \n",
    "    returns p: probability of busting (float)\n",
    "    '''\n",
    "    score, soft = hand\n",
    "    if score <= 16:\n",
    "        for card in range(10):\n",
    "            score_after_hitting, soft = hit_hand(score, soft, card + 1)\n",
    "            if score_after_hitting >= 22:\n",
    "                p += shoe[card]/sum(shoe)\n",
    "            elif score_after_hitting <= 16:\n",
    "                new_shoe = [c - 1 if i == card else c for i,c in enumerate(shoe)]\n",
    "                p += new_shoe[card]/sum(new_shoe) * p_bust((score_after_hitting, soft), new_shoe, p)\n",
    "    return p\n",
    "\n",
    "\n",
    "def possible_hands(showing, shoe):\n",
    "    ''' generates a list of all possible hands and the probability \n",
    "    of seeing that hand given a shoe and an upcard\n",
    "    \n",
    "    arguments:\n",
    "    showing: the value of the card that is showing\n",
    "    shoe: the number of cards of each value left to draw (list)\n",
    "    \n",
    "    returns [((score, scoft) p), ...]: list of the hands (tuple of the score and whether it is soft) and probability of hand\n",
    "    '''\n",
    "    hands = []\n",
    "    for card in range(10):\n",
    "        if shoe[card] != 0:\n",
    "            p_card = shoe[card] / sum(shoe)\n",
    "            if showing == 1:\n",
    "                hands.append((hit_hand(11, True, card + 1), p_card))\n",
    "            else:\n",
    "                hands.append((hit_hand(showing, False, card + 1), p_card))\n",
    "    return hands\n",
    "\n",
    "master_shoe = [4*6 for _ in range (9)] + [4*4*6]\n",
    "\n",
    "for card in range(10):\n",
    "    shoe = [c - 1 if i == card else c for i,c in enumerate(master_shoe)]\n",
    "    print 'Probability of bust showing %d: %f' % (card + 1, sum([p_bust(hand, shoe)*p_card for hand, p_card in possible_hands(card + 1, shoe)]))\n"
   ]
  },
  {
   "cell_type": "markdown",
   "metadata": {
    "collapsed": true
   },
   "source": [
    "----------\n",
    "<blockquote>\n",
    "I think this question is related to a broader question that I ask myself all the time in research: what does it mean to have a \"nice solution\" to a problem? When I was young, I was taught that a \"nice solution\" is a formula for the thing you want to calculate, but that's not always true! Having a forumla for something often tells you very little about it, and other descriptions are often much more useful from a practical point of view.\n",
    "\n",
    "I'm not sure whether the description of the bust probability given above is much use, but for this problem, I suspect that a linear algebraic description of this kind will be more useful than a formula.\n",
    "</blockquote>"
   ]
  }
 ],
 "metadata": {
  "kernelspec": {
   "display_name": "Python 2",
   "language": "python",
   "name": "python2"
  },
  "language_info": {
   "codemirror_mode": {
    "name": "ipython",
    "version": 2
   },
   "file_extension": ".py",
   "mimetype": "text/x-python",
   "name": "python",
   "nbconvert_exporter": "python",
   "pygments_lexer": "ipython2",
   "version": "2.7.9"
  }
 },
 "nbformat": 4,
 "nbformat_minor": 0
}
